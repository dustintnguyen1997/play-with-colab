{
  "nbformat": 4,
  "nbformat_minor": 0,
  "metadata": {
    "colab": {
      "provenance": []
    },
    "kernelspec": {
      "name": "python3",
      "display_name": "Python 3"
    },
    "language_info": {
      "name": "python"
    }
  },
  "cells": [
    {
      "cell_type": "code",
      "execution_count": 1,
      "metadata": {
        "colab": {
          "base_uri": "https://localhost:8080/"
        },
        "id": "VD1j_AfMM_F0",
        "outputId": "54bedf6f-4e27-4d66-b8ff-25b018339b45"
      },
      "outputs": [
        {
          "output_type": "stream",
          "name": "stdout",
          "text": [
            "Hello World\n",
            "Dustin Nguyen\n",
            "5 + 2 = 7\n",
            "5 % 2 = 1\n",
            "5 // 2 = 2\n",
            "(1 + 2 - 3) * 2 = 0\n",
            "Hello this is a new lines\n"
          ]
        }
      ],
      "source": [
        "import random\n",
        "import sys\n",
        "import os\n",
        "\n",
        "print(\"Hello World\")\n",
        "name = \"Dustin Nguyen\"\n",
        "print(name)\n",
        "\n",
        "print(\"5 + 2 =\", 5+2)\n",
        "print(\"5 % 2 =\", 5%2)\n",
        "print(\"5 // 2 =\", 5//2)\n",
        "print(\"(1 + 2 - 3) * 2 =\", (1 + 2 - 3) * 2 )\n",
        "\n",
        "print(\"Hello this is a \", end=\"\")\n",
        "print(\"new lines\")"
      ]
    },
    {
      "cell_type": "code",
      "source": [
        "#Lists\n",
        "import random\n",
        "import sys\n",
        "import os\n",
        "\n",
        "grocery_list = ['Apples', 'Juice', 'Tomatoes', 'Potatoes']\n",
        "print('First Item', grocery_list[0])\n",
        "print(grocery_list[1:3])\n",
        "\n",
        "other_events = ['Wash Car', 'Pick up Kids']\n",
        "to_do_list = [other_events, grocery_list]\n",
        "print(to_do_list)\n",
        "print((to_do_list[1][1]))\n",
        "grocery_list.append('Onions')\n",
        "print(to_do_list)\n",
        "grocery_list.insert(1, 'Pickle')\n",
        "grocery_list.remove('Pickle')\n",
        "grocery_list.sort()\n",
        "del grocery_list[3]\n",
        "print(to_do_list)\n",
        "to_do_list2 = other_events + grocery_list\n",
        "print(len(to_do_list2))\n",
        "print(max(to_do_list2))\n",
        "print(min(to_do_list2))"
      ],
      "metadata": {
        "colab": {
          "base_uri": "https://localhost:8080/"
        },
        "id": "JVBDMlMmNKpt",
        "outputId": "17619a71-a63e-4441-90bb-fad035e12888"
      },
      "execution_count": 2,
      "outputs": [
        {
          "output_type": "stream",
          "name": "stdout",
          "text": [
            "First Item Apples\n",
            "['Juice', 'Tomatoes']\n",
            "[['Wash Car', 'Pick up Kids'], ['Apples', 'Juice', 'Tomatoes', 'Potatoes']]\n",
            "Juice\n",
            "[['Wash Car', 'Pick up Kids'], ['Apples', 'Juice', 'Tomatoes', 'Potatoes', 'Onions']]\n",
            "[['Wash Car', 'Pick up Kids'], ['Apples', 'Juice', 'Onions', 'Tomatoes']]\n",
            "6\n",
            "Wash Car\n",
            "Apples\n"
          ]
        }
      ]
    },
    {
      "cell_type": "code",
      "source": [
        "#Tuples\n",
        "import random\n",
        "import sys\n",
        "import os\n",
        "\n",
        "pi_tuple = (3,1,2,5,8)\n",
        "new_tuple = list(pi_tuple)\n",
        "len(pi_tuple)"
      ],
      "metadata": {
        "colab": {
          "base_uri": "https://localhost:8080/"
        },
        "id": "siMPEQvMN1Ya",
        "outputId": "8b4cf33d-53a6-4c45-a732-45b70aea1393"
      },
      "execution_count": 5,
      "outputs": [
        {
          "output_type": "execute_result",
          "data": {
            "text/plain": [
              "5"
            ]
          },
          "metadata": {},
          "execution_count": 5
        }
      ]
    },
    {
      "cell_type": "code",
      "source": [
        "#dictionary\n",
        "import random\n",
        "import sys\n",
        "import os\n",
        "\n",
        "super_villians = {'Fiddler': 'Isaac Bowin',\n",
        "                  'Caption Cold': 'Leonard Snart'}\n",
        "print(super_villians['Caption Cold'])\n",
        "del super_villians['Fiddler']\n",
        "super_villians['Pied Piper'] = 'Harley Rathaway'\n",
        "print(super_villians.get(\"Pled Piper\"))\n",
        "print(super_villians.keys())\n",
        "print(super_villians.values())"
      ],
      "metadata": {
        "colab": {
          "base_uri": "https://localhost:8080/"
        },
        "id": "E95XiniNOTti",
        "outputId": "bc4eeffc-1894-455a-e4b5-d5fe9f6d3840"
      },
      "execution_count": 6,
      "outputs": [
        {
          "output_type": "stream",
          "name": "stdout",
          "text": [
            "Leonard Snart\n",
            "None\n",
            "dict_keys(['Caption Cold', 'Pied Piper'])\n",
            "dict_values(['Leonard Snart', 'Harley Rathaway'])\n"
          ]
        }
      ]
    },
    {
      "cell_type": "code",
      "source": [
        "#conditionals\n",
        "import random\n",
        "import sys\n",
        "import os\n",
        "\n",
        "age = 21\n",
        "if age > 16:\n",
        "  print(\"You're good to drive\")\n",
        "else:\n",
        "  print(\"You're not good to drive\")\n",
        "\n",
        "if age >= 21:\n",
        "  print(\"You are old enoguh to drive\")\n",
        "elif age >= 16:\n",
        "  print(\"you are enough to drive a car\")\n",
        "else:\n",
        "  print(\"You are not good to drive\")"
      ],
      "metadata": {
        "colab": {
          "base_uri": "https://localhost:8080/"
        },
        "id": "mAQuj1SKOWz_",
        "outputId": "2953d149-07f7-434b-ea2c-e5b1d773bb15"
      },
      "execution_count": 7,
      "outputs": [
        {
          "output_type": "stream",
          "name": "stdout",
          "text": [
            "You're good to drive\n",
            "You are old enoguh to drive\n"
          ]
        }
      ]
    },
    {
      "cell_type": "code",
      "source": [
        "#Loops\n",
        "import random\n",
        "import sys\n",
        "import os\n",
        "\n",
        "for x in range(0,10):\n",
        "  print(x, '', end =\"\")\n",
        "print(\"\\n\")\n",
        "grocery_list = ['Apples', 'Juice', 'Tomatoes', 'Potatoes']\n",
        "for y in grocery_list:\n",
        "  print(y, '', end=\"\")\n",
        "print('\\n')\n",
        "num_list = [[1,2,3],[10,20,30]]\n",
        "for x in range(0,2):\n",
        "  for y in range(0,3):\n",
        "    print(num_list[x][y])"
      ],
      "metadata": {
        "colab": {
          "base_uri": "https://localhost:8080/"
        },
        "id": "RB2V9VynObWm",
        "outputId": "80c77e71-6483-4944-8289-ef76f63701c1"
      },
      "execution_count": 8,
      "outputs": [
        {
          "output_type": "stream",
          "name": "stdout",
          "text": [
            "0 1 2 3 4 5 6 7 8 9 \n",
            "\n",
            "Apples Juice Tomatoes Potatoes \n",
            "\n",
            "1\n",
            "2\n",
            "3\n",
            "10\n",
            "20\n",
            "30\n"
          ]
        }
      ]
    },
    {
      "cell_type": "code",
      "source": [
        "#while loop\n",
        "import random\n",
        "import sys\n",
        "import os\n",
        "\n",
        "random_num = random.randrange(0,100)\n",
        "while (random_num != 15):\n",
        "  print(random_num)\n",
        "  random_num = random.randrange(0,100)\n",
        "print('\\n')\n",
        "i = 0;\n",
        "while(i <= 20):\n",
        "  if(i%2 == 0):\n",
        "    print(i)\n",
        "  elif(i==9):\n",
        "    break\n",
        "  else:\n",
        "    i += 1\n",
        "    continue\n",
        "  i+= 1"
      ],
      "metadata": {
        "colab": {
          "base_uri": "https://localhost:8080/"
        },
        "id": "Bd90MTR7OkRd",
        "outputId": "1d58ca77-e462-42d7-9257-ca8b7bb700a2"
      },
      "execution_count": 9,
      "outputs": [
        {
          "output_type": "stream",
          "name": "stdout",
          "text": [
            "8\n",
            "85\n",
            "43\n",
            "13\n",
            "50\n",
            "54\n",
            "71\n",
            "49\n",
            "14\n",
            "30\n",
            "37\n",
            "37\n",
            "52\n",
            "9\n",
            "65\n",
            "4\n",
            "95\n",
            "18\n",
            "19\n",
            "94\n",
            "10\n",
            "23\n",
            "38\n",
            "27\n",
            "51\n",
            "22\n",
            "13\n",
            "96\n",
            "9\n",
            "77\n",
            "93\n",
            "2\n",
            "50\n",
            "58\n",
            "10\n",
            "57\n",
            "90\n",
            "1\n",
            "83\n",
            "3\n",
            "90\n",
            "29\n",
            "97\n",
            "73\n",
            "67\n",
            "\n",
            "\n",
            "0\n",
            "2\n",
            "4\n",
            "6\n",
            "8\n"
          ]
        }
      ]
    },
    {
      "cell_type": "code",
      "source": [
        "#functions\n",
        "import random\n",
        "import sys\n",
        "import os\n",
        "\n",
        "def addNumber(fNum, lNum):\n",
        "  sumNum = fNum + lNum\n",
        "  return sumNum\n",
        "\n",
        "addNumber(2,4)"
      ],
      "metadata": {
        "colab": {
          "base_uri": "https://localhost:8080/"
        },
        "id": "3-SXHSZOOpOW",
        "outputId": "c4a51eab-b051-40a0-bbc3-23b3b6822244"
      },
      "execution_count": 10,
      "outputs": [
        {
          "output_type": "execute_result",
          "data": {
            "text/plain": [
              "6"
            ]
          },
          "metadata": {},
          "execution_count": 10
        }
      ]
    },
    {
      "cell_type": "code",
      "source": [
        "#input\n",
        "import random\n",
        "import sys\n",
        "import os\n",
        "\n",
        "long_string = \"Ill catch you if you call - the floor\"\n",
        "print(long_string.find(\"floor\"))\n",
        "print(long_string[0:5])\n",
        "\n",
        "print(\"%c is my %s letter and my number %d number is %.5f\" %\n",
        "  ('X', 'favorite', 1, .14))"
      ],
      "metadata": {
        "colab": {
          "base_uri": "https://localhost:8080/"
        },
        "id": "QiDcJBMGOvE4",
        "outputId": "db470c1e-2559-4ed9-9c78-fae1ad515252"
      },
      "execution_count": 12,
      "outputs": [
        {
          "output_type": "stream",
          "name": "stdout",
          "text": [
            "32\n",
            "Ill c\n",
            "X is my favorite letter and my number 1 number is 0.14000\n"
          ]
        }
      ]
    },
    {
      "cell_type": "code",
      "source": [
        "#Fileio\n",
        "import random\n",
        "import sys\n",
        "import os\n",
        "\n",
        "test_file = open(\"test.txt\", \"wb\")\n",
        "\n",
        "print(test_file.mode)\n",
        "print(test_file.name)\n",
        "test_file.write(bytes(\"Write me to the file\\n\", 'UTF-8'))\n",
        "test_file.close()\n",
        "\n",
        "test_file = open(\"test.txt\", \"r+\")\n",
        "text_in_file = test_file.read()\n",
        "print(text_in_file)\n",
        "\n",
        "os.remove(\"test.txt\")"
      ],
      "metadata": {
        "colab": {
          "base_uri": "https://localhost:8080/"
        },
        "id": "BguOKUEMOzrU",
        "outputId": "6167650a-7465-4b4d-bcb6-8e5a4a746262"
      },
      "execution_count": 13,
      "outputs": [
        {
          "output_type": "stream",
          "name": "stdout",
          "text": [
            "wb\n",
            "test.txt\n",
            "Write me to the file\n",
            "\n"
          ]
        }
      ]
    },
    {
      "cell_type": "code",
      "source": [
        "#object\n",
        "import random\n",
        "import sys\n",
        "import os\n",
        "\n",
        "class Animal:\n",
        "  __name = \"\"\n",
        "  __height = 0\n",
        "  __weight = 0\n",
        "  __sound = 0\n",
        "\n",
        "  def __init__(self, name, height, weight, sound):\n",
        "    self.__name = name\n",
        "    self.__height = height\n",
        "    self.__weight = weight\n",
        "    self.__sound = sound\n",
        "\n",
        "  def set_height(self, height):\n",
        "    self.__height = height\n",
        "\n",
        "  def set_weight(self, weight):\n",
        "    self.__weight = weight\n",
        "\n",
        "  def set_sound(self, sound):\n",
        "    self.__sound = sound\n",
        "\n",
        "  def set_name(self, name):\n",
        "    self.__name = name\n",
        "\n",
        "  def get_name(self):\n",
        "    return self.__name\n",
        "\n",
        "  def get_height(self):\n",
        "    return self.__height\n",
        "\n",
        "  def get_weight(self):\n",
        "    return self.__weight\n",
        "\n",
        "  def get_sound(self):\n",
        "    return self.__sound\n",
        "\n",
        "  def get_type(self):\n",
        "    print(\"Animal\")\n",
        "\n",
        "  def toString(self):\n",
        "    return \"{} is {} cm tall and {} kilograms and say {}\". format(self.__name,\n",
        "                                                                  self.__height,\n",
        "                                                                  self.__weight,\n",
        "                                                                  self.__sound)\n",
        "\n",
        "cat = Animal('Whiskers', 33, 10, 'Meow')\n",
        "\n",
        "print(cat.toString())"
      ],
      "metadata": {
        "colab": {
          "base_uri": "https://localhost:8080/"
        },
        "id": "0CYBRp5RO7Az",
        "outputId": "8d0d8a18-19ee-4916-9ca3-007ec16bd9fc"
      },
      "execution_count": 14,
      "outputs": [
        {
          "output_type": "stream",
          "name": "stdout",
          "text": [
            "Whiskers is 33 cm tall and 10 kilograms and say Meow\n"
          ]
        }
      ]
    }
  ]
}